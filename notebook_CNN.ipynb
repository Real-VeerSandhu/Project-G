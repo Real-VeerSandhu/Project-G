{
 "metadata": {
  "language_info": {
   "codemirror_mode": {
    "name": "ipython",
    "version": 3
   },
   "file_extension": ".py",
   "mimetype": "text/x-python",
   "name": "python",
   "nbconvert_exporter": "python",
   "pygments_lexer": "ipython3",
   "version": "3.6.12-final"
  },
  "orig_nbformat": 2,
  "kernelspec": {
   "name": "python3",
   "display_name": "Python 3",
   "language": "python"
  }
 },
 "nbformat": 4,
 "nbformat_minor": 2,
 "cells": [
  {
   "cell_type": "code",
   "execution_count": 29,
   "metadata": {},
   "outputs": [],
   "source": [
    "import re\n",
    "import os\n",
    "\n",
    "import numpy as np \n",
    "import pandas as pd \n",
    "import tensorflow as tf \n",
    "import matplotlib.pyplot as plt \n",
    "\n",
    "from keras.callbacks import ModelCheckpoint,EarlyStopping\n",
    "from tensorflow.keras import datasets, layers, models\n",
    "from tensorflow.keras.preprocessing.image import ImageDataGenerator\n",
    "from keras.preprocessing.image import load_img\n",
    "from PIL import Image"
   ]
  },
  {
   "cell_type": "code",
   "execution_count": 2,
   "metadata": {},
   "outputs": [
    {
     "output_type": "stream",
     "name": "stdout",
     "text": [
      "Num GPUs Available:  1\n"
     ]
    }
   ],
   "source": [
    "print(\"Num GPUs Available: \", len(tf.config.experimental.list_physical_devices('GPU')))"
   ]
  },
  {
   "cell_type": "code",
   "execution_count": 3,
   "metadata": {},
   "outputs": [],
   "source": [
    "def list_dataset():\n",
    "    for dirname, _, filenames in os.walk('D:/'):\n",
    "        for filename in filenames:\n",
    "            print(os.path.join(dirname, filename))\n"
   ]
  },
  {
   "cell_type": "code",
   "execution_count": 4,
   "metadata": {},
   "outputs": [],
   "source": [
    "def add_class_name_prefix(df, col_name):\n",
    "    df[col_name] = df[col_name].apply(lambda x: x[:re.search(\"\\d\",x).start()] + '/' + x)\n",
    "    return df"
   ]
  },
  {
   "cell_type": "code",
   "execution_count": 5,
   "metadata": {},
   "outputs": [],
   "source": [
    "def class_id_to_label(id):\n",
    "    label_map = {1: 'glass', 2: 'paper', 3: 'cardboard', 4: 'plastic', 5: 'metal', 6: 'trash'}\n",
    "    return label_map[id]"
   ]
  },
  {
   "cell_type": "code",
   "execution_count": 6,
   "metadata": {},
   "outputs": [],
   "source": [
    "IMAGES_DIR = 'D:/G Data/Garbage classification/Garbage classification'"
   ]
  },
  {
   "cell_type": "code",
   "execution_count": 7,
   "metadata": {},
   "outputs": [],
   "source": [
    "train_file = 'D:/G Data/one-indexed-files-notrash_train.txt'\n",
    "val_file   = 'D:/G Data/one-indexed-files-notrash_val.txt'\n",
    "test_file  = 'D:/G Data/one-indexed-files-notrash_test.txt'"
   ]
  },
  {
   "cell_type": "code",
   "execution_count": 8,
   "metadata": {},
   "outputs": [],
   "source": [
    "df_train = pd.read_csv(train_file, sep=' ', header=None, names=['rel_path', 'label'])\n",
    "df_valid = pd.read_csv(val_file,   sep=' ', header=None, names=['rel_path', 'label'])\n",
    "df_test  = pd.read_csv(val_file,   sep=' ', header=None, names=['rel_path', 'label'])"
   ]
  },
  {
   "cell_type": "code",
   "execution_count": 9,
   "metadata": {},
   "outputs": [],
   "source": [
    "df_train = add_class_name_prefix(df_train, 'rel_path')\n",
    "df_valid = add_class_name_prefix(df_valid, 'rel_path')\n",
    "df_test  = add_class_name_prefix(df_test,  'rel_path')"
   ]
  },
  {
   "cell_type": "code",
   "execution_count": 10,
   "metadata": {},
   "outputs": [],
   "source": [
    "df_train['label'] = df_train['label'].apply(class_id_to_label)\n",
    "df_valid['label'] = df_valid['label'].apply(class_id_to_label)\n",
    "df_test['label']  = df_test['label'].apply(class_id_to_label)"
   ]
  },
  {
   "cell_type": "code",
   "execution_count": 11,
   "metadata": {},
   "outputs": [
    {
     "output_type": "stream",
     "name": "stdout",
     "text": [
      "Found 1768 training, 328 validation and 328 samples.\n"
     ]
    }
   ],
   "source": [
    "print(f'Found {len(df_train)} training, {len(df_valid)} validation and {len(df_test)} samples.')"
   ]
  },
  {
   "cell_type": "code",
   "execution_count": 12,
   "metadata": {},
   "outputs": [
    {
     "output_type": "execute_result",
     "data": {
      "text/plain": [
       "                     rel_path      label\n",
       "0  cardboard/cardboard202.jpg  cardboard\n",
       "1          paper/paper472.jpg      paper\n",
       "2          paper/paper522.jpg      paper\n",
       "3          glass/glass189.jpg      glass\n",
       "4          glass/glass325.jpg      glass"
      ],
      "text/html": "<div>\n<style scoped>\n    .dataframe tbody tr th:only-of-type {\n        vertical-align: middle;\n    }\n\n    .dataframe tbody tr th {\n        vertical-align: top;\n    }\n\n    .dataframe thead th {\n        text-align: right;\n    }\n</style>\n<table border=\"1\" class=\"dataframe\">\n  <thead>\n    <tr style=\"text-align: right;\">\n      <th></th>\n      <th>rel_path</th>\n      <th>label</th>\n    </tr>\n  </thead>\n  <tbody>\n    <tr>\n      <th>0</th>\n      <td>cardboard/cardboard202.jpg</td>\n      <td>cardboard</td>\n    </tr>\n    <tr>\n      <th>1</th>\n      <td>paper/paper472.jpg</td>\n      <td>paper</td>\n    </tr>\n    <tr>\n      <th>2</th>\n      <td>paper/paper522.jpg</td>\n      <td>paper</td>\n    </tr>\n    <tr>\n      <th>3</th>\n      <td>glass/glass189.jpg</td>\n      <td>glass</td>\n    </tr>\n    <tr>\n      <th>4</th>\n      <td>glass/glass325.jpg</td>\n      <td>glass</td>\n    </tr>\n  </tbody>\n</table>\n</div>"
     },
     "metadata": {},
     "execution_count": 12
    }
   ],
   "source": [
    "df_train.head()"
   ]
  },
  {
   "cell_type": "code",
   "execution_count": 13,
   "metadata": {},
   "outputs": [
    {
     "output_type": "execute_result",
     "data": {
      "text/plain": [
       "                     rel_path      label\n",
       "0  cardboard/cardboard114.jpg  cardboard\n",
       "1      plastic/plastic204.jpg    plastic\n",
       "2          glass/glass123.jpg      glass\n",
       "3          glass/glass152.jpg      glass\n",
       "4          glass/glass398.jpg      glass"
      ],
      "text/html": "<div>\n<style scoped>\n    .dataframe tbody tr th:only-of-type {\n        vertical-align: middle;\n    }\n\n    .dataframe tbody tr th {\n        vertical-align: top;\n    }\n\n    .dataframe thead th {\n        text-align: right;\n    }\n</style>\n<table border=\"1\" class=\"dataframe\">\n  <thead>\n    <tr style=\"text-align: right;\">\n      <th></th>\n      <th>rel_path</th>\n      <th>label</th>\n    </tr>\n  </thead>\n  <tbody>\n    <tr>\n      <th>0</th>\n      <td>cardboard/cardboard114.jpg</td>\n      <td>cardboard</td>\n    </tr>\n    <tr>\n      <th>1</th>\n      <td>plastic/plastic204.jpg</td>\n      <td>plastic</td>\n    </tr>\n    <tr>\n      <th>2</th>\n      <td>glass/glass123.jpg</td>\n      <td>glass</td>\n    </tr>\n    <tr>\n      <th>3</th>\n      <td>glass/glass152.jpg</td>\n      <td>glass</td>\n    </tr>\n    <tr>\n      <th>4</th>\n      <td>glass/glass398.jpg</td>\n      <td>glass</td>\n    </tr>\n  </tbody>\n</table>\n</div>"
     },
     "metadata": {},
     "execution_count": 13
    }
   ],
   "source": [
    "df_test.head()"
   ]
  },
  {
   "cell_type": "code",
   "execution_count": 14,
   "metadata": {},
   "outputs": [
    {
     "output_type": "execute_result",
     "data": {
      "text/plain": [
       "                     rel_path      label\n",
       "0  cardboard/cardboard114.jpg  cardboard\n",
       "1      plastic/plastic204.jpg    plastic\n",
       "2          glass/glass123.jpg      glass\n",
       "3          glass/glass152.jpg      glass\n",
       "4          glass/glass398.jpg      glass"
      ],
      "text/html": "<div>\n<style scoped>\n    .dataframe tbody tr th:only-of-type {\n        vertical-align: middle;\n    }\n\n    .dataframe tbody tr th {\n        vertical-align: top;\n    }\n\n    .dataframe thead th {\n        text-align: right;\n    }\n</style>\n<table border=\"1\" class=\"dataframe\">\n  <thead>\n    <tr style=\"text-align: right;\">\n      <th></th>\n      <th>rel_path</th>\n      <th>label</th>\n    </tr>\n  </thead>\n  <tbody>\n    <tr>\n      <th>0</th>\n      <td>cardboard/cardboard114.jpg</td>\n      <td>cardboard</td>\n    </tr>\n    <tr>\n      <th>1</th>\n      <td>plastic/plastic204.jpg</td>\n      <td>plastic</td>\n    </tr>\n    <tr>\n      <th>2</th>\n      <td>glass/glass123.jpg</td>\n      <td>glass</td>\n    </tr>\n    <tr>\n      <th>3</th>\n      <td>glass/glass152.jpg</td>\n      <td>glass</td>\n    </tr>\n    <tr>\n      <th>4</th>\n      <td>glass/glass398.jpg</td>\n      <td>glass</td>\n    </tr>\n  </tbody>\n</table>\n</div>"
     },
     "metadata": {},
     "execution_count": 14
    }
   ],
   "source": [
    "df_valid.head()"
   ]
  },
  {
   "cell_type": "code",
   "execution_count": 15,
   "metadata": {},
   "outputs": [
    {
     "output_type": "stream",
     "name": "stdout",
     "text": [
      "Found 1768 validated image filenames belonging to 6 classes.\nFound 328 validated image filenames belonging to 6 classes.\n"
     ]
    }
   ],
   "source": [
    "datagen = ImageDataGenerator()\n",
    "\n",
    "datagen_train = datagen.flow_from_dataframe(\n",
    "    dataframe=df_train,\n",
    "    directory=IMAGES_DIR,\n",
    "    x_col='rel_path',\n",
    "    y_col='label',\n",
    "    color_mode=\"rgb\",\n",
    "    class_mode=\"categorical\",\n",
    "    batch_size=32,\n",
    "    shuffle=True,\n",
    "    seed=7,\n",
    ")\n",
    "\n",
    "datagen_valid = datagen.flow_from_dataframe(\n",
    "    dataframe=df_valid,\n",
    "    directory=IMAGES_DIR,\n",
    "    x_col='rel_path',\n",
    "    y_col='label',\n",
    "    color_mode=\"rgb\",\n",
    "    class_mode=\"categorical\",\n",
    "    batch_size=32,\n",
    "    shuffle=True,\n",
    "    seed=7,\n",
    ")"
   ]
  },
  {
   "cell_type": "code",
   "execution_count": 30,
   "metadata": {},
   "outputs": [],
   "source": [
    "model = models.Sequential([\n",
    "    layers.Conv2D(32,(3,3), padding='same', input_shape=(300,300,3), activation='relu'),\n",
    "    layers.MaxPooling2D(pool_size=2),\n",
    "    \n",
    "    layers.Conv2D(64,(3,3), padding='same', activation='relu'),\n",
    "    layers.MaxPooling2D(pool_size=2),\n",
    "\n",
    "    layers.Conv2D(32,(3,3), padding='same', activation='relu'),\n",
    "    layers.MaxPooling2D(pool_size=2),\n",
    "\n",
    "    layers.Flatten(),\n",
    "\n",
    "    layers.Dense(64, activation='relu'),\n",
    "    layers.Dropout(0.2),\n",
    "    layers.Dense(32, activation='relu'),\n",
    "    layers.Dropout(0.2),\n",
    "    layers.Dense(6, activation='softmax')\n",
    "])\n",
    "\n",
    "\n",
    "filepath=\"trained_cnn_model.h5\"\n",
    "checkpoint1 = ModelCheckpoint(filepath, monitor='val_acc', verbose=1, save_best_only=True, mode='max')\n",
    "callbacks_list = [checkpoint1]"
   ]
  },
  {
   "cell_type": "code",
   "execution_count": null,
   "metadata": {},
   "outputs": [],
   "source": []
  }
 ]
}